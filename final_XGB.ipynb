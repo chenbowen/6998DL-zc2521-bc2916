{
  "nbformat": 4,
  "nbformat_minor": 0,
  "metadata": {
    "colab": {
      "name": "final_XGB",
      "provenance": [],
      "collapsed_sections": [],
      "machine_shape": "hm"
    },
    "kernelspec": {
      "display_name": "Python 3",
      "name": "python3"
    },
    "language_info": {
      "codemirror_mode": {
        "name": "ipython",
        "version": 3
      },
      "file_extension": ".py",
      "mimetype": "text/x-python",
      "name": "python",
      "nbconvert_exporter": "python",
      "pygments_lexer": "ipython3",
      "version": "3.7.11"
    },
    "accelerator": "TPU"
  },
  "cells": [
    {
      "cell_type": "code",
      "metadata": {
        "id": "ieXh00oM7ONL"
      },
      "source": [
        "import numpy as np\n",
        "import matplotlib.pyplot as plt\n",
        "from matplotlib import style\n",
        "style.use(\"ggplot\")\n",
        "from sklearn import svm\n",
        "from sklearn.model_selection import train_test_split\n",
        "from sklearn.metrics import accuracy_score\n",
        "import pandas as pd\n",
        "import numpy as np\n",
        "from sklearn.metrics import mean_squared_error\n",
        "from PIL import Image as im\n",
        "import sys\n",
        "sys.setrecursionlimit(2147483647)\n",
        "from sklearn.metrics import classification_report\n",
        "from sklearn.metrics import roc_auc_score"
      ],
      "execution_count": null,
      "outputs": []
    },
    {
      "cell_type": "code",
      "metadata": {
        "id": "m_wKaLWR1pHX"
      },
      "source": [
        "from xgboost import XGBClassifier\n",
        "\n",
        "!pip install m2cgen\n",
        "import m2cgen as m2c\n",
        "\n",
        "DATA_NAME = \"train.csv\"\n",
        "EVAL_NAME = \"eval.csv\"\n",
        "\n",
        "train_data = pd.read_csv(DATA_NAME)\n",
        "train_data = train_data.iloc[:,0:258]\n",
        "train_data.dropna(inplace=True)\n",
        "train_data.drop_duplicates(inplace=True)\n",
        "train_data = train_data[(np.abs(stats.zscore(train_data)) < 3).all(axis=1)]\n",
        "train_data.reset_index(drop=True,inplace=True)\n",
        "\n",
        "print(\"TRAIN\", train_data.label.value_counts())\n",
        "\n",
        "eval_data = pd.read_csv(EVAL_NAME)\n",
        "eval_data = eval_data.iloc[:,0:258]\n",
        "eval_data.dropna(inplace=True)\n",
        "eval_data.drop_duplicates(inplace=True)\n",
        "eval_data = eval_data[(np.abs(stats.zscore(eval_data)) < 3).all(axis=1)]\n",
        "eval_data.reset_index(drop=True,inplace=True)\n",
        "\n",
        "from xgboost import XGBClassifier\n",
        "\n",
        "for i in range(1,7):\n",
        "  if i == 3: continue\n",
        "  now_data = train_data[(train_data[\"label\"] == 0) | (train_data[\"label\"] == i)]\n",
        "  now_eval = eval_data[(eval_data[\"label\"] == 0) | (eval_data[\"label\"] == i)]\n",
        "  print(\"TRAIN\", i, now_data.label.value_counts())\n",
        "  print(\"EVAL\", i, now_eval.label.value_counts())\n",
        "  data = now_data.values\n",
        "  X = data[:,1:258]\n",
        "  y = data[:,:1]\n",
        "\n",
        "  eval = now_eval.values\n",
        "  X_eval = eval[:,1:258]\n",
        "  y_eval = eval[:,:1]\n",
        "  \n",
        "  xgb=XGBClassifier(learning_rate =0.1, n_estimators=140, max_depth=5,\n",
        "  min_child_weight=1, gamma=0, subsample=0.8, colsample_bytree=0.8,\n",
        "  objective= 'binary:logistic', nthread=4, scale_pos_weight=1, seed=27)\n",
        "\n",
        "  xgb.fit(X, y)\n",
        "  y_pred_eval = xgb.predict(X_eval)\n",
        "  print(\"xgb\",accuracy_score(y_pred_eval, y_eval))\n",
        "\n",
        "  code = m2c.export_to_python(xgb)\n",
        "  print(code)"
      ],
      "execution_count": null,
      "outputs": []
    }
  ]
}